{
  "nbformat": 4,
  "nbformat_minor": 0,
  "metadata": {
    "colab": {
      "name": "classificationkaran.ipynb",
      "provenance": [],
      "collapsed_sections": []
    },
    "kernelspec": {
      "name": "python2",
      "display_name": "Python 2"
    }
  },
  "cells": [
    {
      "cell_type": "code",
      "metadata": {
        "id": "AhBRzFU3z4SI",
        "colab_type": "code",
        "outputId": "655d6b1e-820c-4a74-d343-4e55c3a35db6",
        "colab": {
          "base_uri": "https://localhost:8080/",
          "height": 125
        }
      },
      "source": [
        "from google.colab import drive\n",
        "drive.mount('/content/drive')"
      ],
      "execution_count": 0,
      "outputs": [
        {
          "output_type": "stream",
          "text": [
            "Go to this URL in a browser: https://accounts.google.com/o/oauth2/auth?client_id=947318989803-6bn6qk8qdgf4n4g3pfee6491hc0brc4i.apps.googleusercontent.com&redirect_uri=urn%3aietf%3awg%3aoauth%3a2.0%3aoob&response_type=code&scope=email%20https%3a%2f%2fwww.googleapis.com%2fauth%2fdocs.test%20https%3a%2f%2fwww.googleapis.com%2fauth%2fdrive%20https%3a%2f%2fwww.googleapis.com%2fauth%2fdrive.photos.readonly%20https%3a%2f%2fwww.googleapis.com%2fauth%2fpeopleapi.readonly\n",
            "\n",
            "Enter your authorization code:\n",
            "··········\n",
            "Mounted at /content/drive\n"
          ],
          "name": "stdout"
        }
      ]
    },
    {
      "cell_type": "code",
      "metadata": {
        "id": "GuXMB-nL0M1p",
        "colab_type": "code",
        "outputId": "b7d442e3-faaf-4857-e309-eddc2d33581c",
        "colab": {
          "base_uri": "https://localhost:8080/",
          "height": 34
        }
      },
      "source": [
        "cd 'drive/My Drive/bep/AES-master'"
      ],
      "execution_count": 0,
      "outputs": [
        {
          "output_type": "stream",
          "text": [
            "/content/drive/My Drive/bep/AES-master\n"
          ],
          "name": "stdout"
        }
      ]
    },
    {
      "cell_type": "code",
      "metadata": {
        "id": "EoAzwfMF0Qlc",
        "colab_type": "code",
        "outputId": "8236cdb1-2796-496d-e441-81475e077d8b",
        "colab": {
          "base_uri": "https://localhost:8080/",
          "height": 354
        }
      },
      "source": [
        "ls"
      ],
      "execution_count": 0,
      "outputs": [
        {
          "output_type": "stream",
          "text": [
            " 300features_40minwords_10context\n",
            " Classification_Methods_Final.ipynb\n",
            "'Copy of Data_Cleaning_and_Transformation_Word2Vec_final.ipynb'\n",
            " Data_Cleaning_and_Transformation_Word2Vec_final.ipynb\n",
            " Data_Exploration_Final.ipynb\n",
            " dataloading1.py\n",
            " dataloading1.pyc\n",
            " essay2vec.py\n",
            " essay2vec.pyc\n",
            " essay2vec.py.gdoc\n",
            " \u001b[0m\u001b[01;34mlogs\u001b[0m/\n",
            " Neural_Network_Write_Up_final.ipynb\n",
            " \u001b[01;34m__pycache__\u001b[0m/\n",
            " README.md\n",
            " requiredimports.py\n",
            " requiredimports.pyc\n",
            " savetest.txt\n",
            " training_set_rel3.xlsx\n",
            " wordembedding.png\n"
          ],
          "name": "stdout"
        }
      ]
    },
    {
      "cell_type": "code",
      "metadata": {
        "id": "Ov7vgGUQ1DNW",
        "colab_type": "code",
        "outputId": "307c77f6-6f10-4c41-bee0-6f3b5de97fef",
        "colab": {
          "base_uri": "https://localhost:8080/",
          "height": 907
        }
      },
      "source": [
        "pip install runipy"
      ],
      "execution_count": 0,
      "outputs": [
        {
          "output_type": "stream",
          "text": [
            "Collecting runipy\n",
            "  Downloading https://files.pythonhosted.org/packages/ab/b7/628258778b5b6da373dda3053241bf5f7d80ee65941ad3ad219fb3e9356f/runipy-0.1.5.tar.gz\n",
            "Requirement already satisfied: Jinja2>=2.7.2 in /usr/local/lib/python2.7/dist-packages (from runipy) (2.10.1)\n",
            "Requirement already satisfied: Pygments>=1.6 in /usr/local/lib/python2.7/dist-packages (from runipy) (2.1.3)\n",
            "Requirement already satisfied: ipython>=2.3.1 in /usr/local/lib/python2.7/dist-packages (from runipy) (5.5.0)\n",
            "Requirement already satisfied: pyzmq>=14.1.0 in /usr/local/lib/python2.7/dist-packages (from runipy) (19.0.0)\n",
            "Requirement already satisfied: ipykernel>=4.0.0 in /usr/local/lib/python2.7/dist-packages (from runipy) (4.10.1)\n",
            "Requirement already satisfied: nbconvert>=4.0.0 in /usr/local/lib/python2.7/dist-packages (from runipy) (5.5.0)\n",
            "Requirement already satisfied: nbformat>=4.0.0 in /usr/local/lib/python2.7/dist-packages (from runipy) (4.4.0)\n",
            "Requirement already satisfied: MarkupSafe>=0.23 in /usr/local/lib/python2.7/dist-packages (from Jinja2>=2.7.2->runipy) (1.1.1)\n",
            "Requirement already satisfied: simplegeneric>0.8 in /usr/local/lib/python2.7/dist-packages (from ipython>=2.3.1->runipy) (0.8.1)\n",
            "Requirement already satisfied: pickleshare in /usr/local/lib/python2.7/dist-packages (from ipython>=2.3.1->runipy) (0.7.5)\n",
            "Requirement already satisfied: backports.shutil-get-terminal-size; python_version == \"2.7\" in /usr/local/lib/python2.7/dist-packages (from ipython>=2.3.1->runipy) (1.0.0)\n",
            "Requirement already satisfied: pathlib2; python_version == \"2.7\" or python_version == \"3.3\" in /usr/local/lib/python2.7/dist-packages (from ipython>=2.3.1->runipy) (2.3.4)\n",
            "Requirement already satisfied: pexpect; sys_platform != \"win32\" in /usr/local/lib/python2.7/dist-packages (from ipython>=2.3.1->runipy) (4.7.0)\n",
            "Requirement already satisfied: traitlets>=4.2 in /usr/local/lib/python2.7/dist-packages (from ipython>=2.3.1->runipy) (4.3.2)\n",
            "Requirement already satisfied: decorator in /usr/local/lib/python2.7/dist-packages (from ipython>=2.3.1->runipy) (4.4.0)\n",
            "Requirement already satisfied: prompt-toolkit<2.0.0,>=1.0.4 in /usr/local/lib/python2.7/dist-packages (from ipython>=2.3.1->runipy) (1.0.16)\n",
            "Requirement already satisfied: setuptools>=18.5 in /usr/local/lib/python2.7/dist-packages (from ipython>=2.3.1->runipy) (44.1.0)\n",
            "Requirement already satisfied: jupyter-client in /usr/local/lib/python2.7/dist-packages (from ipykernel>=4.0.0->runipy) (5.3.1)\n",
            "Requirement already satisfied: tornado>=4.0 in /usr/local/lib/python2.7/dist-packages (from ipykernel>=4.0.0->runipy) (4.5.3)\n",
            "Requirement already satisfied: entrypoints>=0.2.2 in /usr/local/lib/python2.7/dist-packages (from nbconvert>=4.0.0->runipy) (0.3)\n",
            "Requirement already satisfied: defusedxml in /usr/local/lib/python2.7/dist-packages (from nbconvert>=4.0.0->runipy) (0.6.0)\n",
            "Requirement already satisfied: testpath in /usr/local/lib/python2.7/dist-packages (from nbconvert>=4.0.0->runipy) (0.4.2)\n",
            "Requirement already satisfied: mistune>=0.8.1 in /usr/local/lib/python2.7/dist-packages (from nbconvert>=4.0.0->runipy) (0.8.4)\n",
            "Requirement already satisfied: jupyter-core in /usr/local/lib/python2.7/dist-packages (from nbconvert>=4.0.0->runipy) (4.5.0)\n",
            "Requirement already satisfied: bleach in /usr/local/lib/python2.7/dist-packages (from nbconvert>=4.0.0->runipy) (3.1.0)\n",
            "Requirement already satisfied: pandocfilters>=1.4.1 in /usr/local/lib/python2.7/dist-packages (from nbconvert>=4.0.0->runipy) (1.4.2)\n",
            "Requirement already satisfied: jsonschema!=2.5.0,>=2.4 in /usr/local/lib/python2.7/dist-packages (from nbformat>=4.0.0->runipy) (2.6.0)\n",
            "Requirement already satisfied: ipython-genutils in /usr/local/lib/python2.7/dist-packages (from nbformat>=4.0.0->runipy) (0.2.0)\n",
            "Requirement already satisfied: six in /usr/local/lib/python2.7/dist-packages (from pathlib2; python_version == \"2.7\" or python_version == \"3.3\"->ipython>=2.3.1->runipy) (1.12.0)\n",
            "Requirement already satisfied: scandir; python_version < \"3.5\" in /usr/local/lib/python2.7/dist-packages (from pathlib2; python_version == \"2.7\" or python_version == \"3.3\"->ipython>=2.3.1->runipy) (1.10.0)\n",
            "Requirement already satisfied: ptyprocess>=0.5 in /usr/local/lib/python2.7/dist-packages (from pexpect; sys_platform != \"win32\"->ipython>=2.3.1->runipy) (0.6.0)\n",
            "Requirement already satisfied: enum34; python_version == \"2.7\" in /usr/local/lib/python2.7/dist-packages (from traitlets>=4.2->ipython>=2.3.1->runipy) (1.1.6)\n",
            "Requirement already satisfied: wcwidth in /usr/local/lib/python2.7/dist-packages (from prompt-toolkit<2.0.0,>=1.0.4->ipython>=2.3.1->runipy) (0.1.7)\n",
            "Requirement already satisfied: python-dateutil>=2.1 in /usr/local/lib/python2.7/dist-packages (from jupyter-client->ipykernel>=4.0.0->runipy) (2.5.3)\n",
            "Requirement already satisfied: certifi in /usr/local/lib/python2.7/dist-packages (from tornado>=4.0->ipykernel>=4.0.0->runipy) (2019.6.16)\n",
            "Requirement already satisfied: singledispatch in /usr/local/lib/python2.7/dist-packages (from tornado>=4.0->ipykernel>=4.0.0->runipy) (3.4.0.3)\n",
            "Requirement already satisfied: backports-abc>=0.4 in /usr/local/lib/python2.7/dist-packages (from tornado>=4.0->ipykernel>=4.0.0->runipy) (0.5)\n",
            "Requirement already satisfied: configparser>=3.5; python_version == \"2.7\" in /usr/local/lib/python2.7/dist-packages (from entrypoints>=0.2.2->nbconvert>=4.0.0->runipy) (3.7.4)\n",
            "Requirement already satisfied: webencodings in /usr/local/lib/python2.7/dist-packages (from bleach->nbconvert>=4.0.0->runipy) (0.5.1)\n",
            "Requirement already satisfied: functools32; python_version == \"2.7\" in /usr/local/lib/python2.7/dist-packages (from jsonschema!=2.5.0,>=2.4->nbformat>=4.0.0->runipy) (3.2.3.post2)\n",
            "Building wheels for collected packages: runipy\n",
            "  Building wheel for runipy (setup.py) ... \u001b[?25l\u001b[?25hdone\n",
            "  Created wheel for runipy: filename=runipy-0.1.5-cp27-none-any.whl size=10139 sha256=079bd8a275de6ef55a300e19b59806326afa0ab1f0964cab3d7b97d078cb49e9\n",
            "  Stored in directory: /root/.cache/pip/wheels/38/80/04/b2dbcd5df8afdb529918d2021094048a5917b6e76a6f7b452d\n",
            "Successfully built runipy\n",
            "Installing collected packages: runipy\n",
            "Successfully installed runipy-0.1.5\n"
          ],
          "name": "stdout"
        }
      ]
    },
    {
      "cell_type": "code",
      "metadata": {
        "id": "L1DkR6Sk7e-J",
        "colab_type": "code",
        "outputId": "45343635-f0f9-4d60-fc59-09ddd7ed3694",
        "colab": {
          "base_uri": "https://localhost:8080/",
          "height": 105
        }
      },
      "source": [
        "import nltk\n",
        "nltk.download('punkt')\n",
        "nltk.download('stopwords')"
      ],
      "execution_count": 0,
      "outputs": [
        {
          "output_type": "stream",
          "text": [
            "[nltk_data] Downloading package punkt to /root/nltk_data...\n",
            "[nltk_data]   Unzipping tokenizers/punkt.zip.\n",
            "[nltk_data] Downloading package stopwords to /root/nltk_data...\n",
            "[nltk_data]   Unzipping corpora/stopwords.zip.\n"
          ],
          "name": "stdout"
        },
        {
          "output_type": "execute_result",
          "data": {
            "text/plain": [
              "True"
            ]
          },
          "metadata": {
            "tags": []
          },
          "execution_count": 5
        }
      ]
    },
    {
      "cell_type": "code",
      "metadata": {
        "id": "Li4wP7RUFhW5",
        "colab_type": "code",
        "outputId": "541b7116-3805-47b7-dbf4-8b15585ab7a8",
        "colab": {
          "base_uri": "https://localhost:8080/",
          "height": 587
        }
      },
      "source": [
        "pip install gensim==0.13.4.1"
      ],
      "execution_count": 0,
      "outputs": [
        {
          "output_type": "stream",
          "text": [
            "Collecting gensim==0.13.4.1\n",
            "\u001b[?25l  Downloading https://files.pythonhosted.org/packages/3f/45/7ee51ecf36bae1fa27f6de4d392d5773d0184c0acf0f6780ebf167cbcd4a/gensim-0.13.4.1.tar.gz (7.5MB)\n",
            "\u001b[K     |████████████████████████████████| 7.5MB 2.7MB/s \n",
            "\u001b[?25hRequirement already satisfied: numpy>=1.3 in /usr/local/lib/python2.7/dist-packages (from gensim==0.13.4.1) (1.16.4)\n",
            "Requirement already satisfied: scipy>=0.7.0 in /usr/local/lib/python2.7/dist-packages (from gensim==0.13.4.1) (1.2.2)\n",
            "Requirement already satisfied: six>=1.5.0 in /usr/local/lib/python2.7/dist-packages (from gensim==0.13.4.1) (1.12.0)\n",
            "Requirement already satisfied: smart_open>=1.2.1 in /usr/local/lib/python2.7/dist-packages (from gensim==0.13.4.1) (1.8.4)\n",
            "Requirement already satisfied: bz2file in /usr/local/lib/python2.7/dist-packages (from smart_open>=1.2.1->gensim==0.13.4.1) (0.98)\n",
            "Requirement already satisfied: boto>=2.32 in /usr/local/lib/python2.7/dist-packages (from smart_open>=1.2.1->gensim==0.13.4.1) (2.49.0)\n",
            "Requirement already satisfied: requests in /usr/local/lib/python2.7/dist-packages (from smart_open>=1.2.1->gensim==0.13.4.1) (2.21.0)\n",
            "Requirement already satisfied: boto3 in /usr/local/lib/python2.7/dist-packages (from smart_open>=1.2.1->gensim==0.13.4.1) (1.9.189)\n",
            "Requirement already satisfied: urllib3<1.25,>=1.21.1 in /usr/local/lib/python2.7/dist-packages (from requests->smart_open>=1.2.1->gensim==0.13.4.1) (1.24.3)\n",
            "Requirement already satisfied: certifi>=2017.4.17 in /usr/local/lib/python2.7/dist-packages (from requests->smart_open>=1.2.1->gensim==0.13.4.1) (2019.6.16)\n",
            "Requirement already satisfied: chardet<3.1.0,>=3.0.2 in /usr/local/lib/python2.7/dist-packages (from requests->smart_open>=1.2.1->gensim==0.13.4.1) (3.0.4)\n",
            "Requirement already satisfied: idna<2.9,>=2.5 in /usr/local/lib/python2.7/dist-packages (from requests->smart_open>=1.2.1->gensim==0.13.4.1) (2.8)\n",
            "Requirement already satisfied: jmespath<1.0.0,>=0.7.1 in /usr/local/lib/python2.7/dist-packages (from boto3->smart_open>=1.2.1->gensim==0.13.4.1) (0.9.4)\n",
            "Requirement already satisfied: botocore<1.13.0,>=1.12.189 in /usr/local/lib/python2.7/dist-packages (from boto3->smart_open>=1.2.1->gensim==0.13.4.1) (1.12.189)\n",
            "Requirement already satisfied: s3transfer<0.3.0,>=0.2.0 in /usr/local/lib/python2.7/dist-packages (from boto3->smart_open>=1.2.1->gensim==0.13.4.1) (0.2.1)\n",
            "Requirement already satisfied: docutils>=0.10 in /usr/local/lib/python2.7/dist-packages (from botocore<1.13.0,>=1.12.189->boto3->smart_open>=1.2.1->gensim==0.13.4.1) (0.14)\n",
            "Requirement already satisfied: python-dateutil<3.0.0,>=2.1; python_version >= \"2.7\" in /usr/local/lib/python2.7/dist-packages (from botocore<1.13.0,>=1.12.189->boto3->smart_open>=1.2.1->gensim==0.13.4.1) (2.5.3)\n",
            "Requirement already satisfied: futures<4.0.0,>=2.2.0; python_version == \"2.6\" or python_version == \"2.7\" in /usr/local/lib/python2.7/dist-packages (from s3transfer<0.3.0,>=0.2.0->boto3->smart_open>=1.2.1->gensim==0.13.4.1) (3.2.0)\n",
            "Building wheels for collected packages: gensim\n",
            "  Building wheel for gensim (setup.py) ... \u001b[?25l\u001b[?25hdone\n",
            "  Created wheel for gensim: filename=gensim-0.13.4.1-cp27-cp27mu-linux_x86_64.whl size=4815602 sha256=f8d3ed94cedd1c57e134d4d26d7978e27c273a2b3256f539717267bae4d68e29\n",
            "  Stored in directory: /root/.cache/pip/wheels/cc/4a/36/34fbd4f1e3a18fe5a2bb3d4366a44711ad0c34adc8251829d9\n",
            "Successfully built gensim\n",
            "Installing collected packages: gensim\n",
            "  Found existing installation: gensim 3.6.0\n",
            "    Uninstalling gensim-3.6.0:\n",
            "      Successfully uninstalled gensim-3.6.0\n",
            "Successfully installed gensim-0.13.4.1\n"
          ],
          "name": "stdout"
        }
      ]
    },
    {
      "cell_type": "code",
      "metadata": {
        "id": "QF_95BluBXcO",
        "colab_type": "code",
        "outputId": "7aa8fcab-0010-48fc-e3f8-3668be648102",
        "colab": {
          "base_uri": "https://localhost:8080/",
          "height": 34
        }
      },
      "source": [
        "pip install scikit-learn==0.18"
      ],
      "execution_count": 0,
      "outputs": [
        {
          "output_type": "stream",
          "text": [
            "Requirement already satisfied: scikit-learn==0.18 in /usr/local/lib/python2.7/dist-packages (0.18)\n"
          ],
          "name": "stdout"
        }
      ]
    },
    {
      "cell_type": "code",
      "metadata": {
        "id": "caX0gXxCAgFS",
        "colab_type": "code",
        "colab": {}
      },
      "source": [
        "!python requiredimports.py"
      ],
      "execution_count": 0,
      "outputs": []
    },
    {
      "cell_type": "code",
      "metadata": {
        "id": "Wlj1YUzNy7bu",
        "colab_type": "code",
        "outputId": "5641ac1c-40ac-4e1d-b600-f02c187570af",
        "colab": {
          "base_uri": "https://localhost:8080/",
          "height": 374
        }
      },
      "source": [
        "pip install paramiko"
      ],
      "execution_count": 0,
      "outputs": [
        {
          "output_type": "stream",
          "text": [
            "Collecting paramiko\n",
            "\u001b[?25l  Downloading https://files.pythonhosted.org/packages/06/1e/1e08baaaf6c3d3df1459fd85f0e7d2d6aa916f33958f151ee1ecc9800971/paramiko-2.7.1-py2.py3-none-any.whl (206kB)\n",
            "\u001b[K     |████████████████████████████████| 215kB 2.8MB/s \n",
            "\u001b[?25hCollecting pynacl>=1.0.1\n",
            "\u001b[?25l  Downloading https://files.pythonhosted.org/packages/b3/25/e605574f24948a8a53b497744e93f061eb1dbe7c44b6465fc1c172d591aa/PyNaCl-1.3.0-cp27-cp27mu-manylinux1_x86_64.whl (762kB)\n",
            "\u001b[K     |████████████████████████████████| 768kB 8.8MB/s \n",
            "\u001b[?25hCollecting bcrypt>=3.1.3\n",
            "\u001b[?25l  Downloading https://files.pythonhosted.org/packages/ad/36/9a0227d048e98409f012570f7bef8a8c2373b9c9c5dfbf82963cbae05ede/bcrypt-3.1.7-cp27-cp27mu-manylinux1_x86_64.whl (59kB)\n",
            "\u001b[K     |████████████████████████████████| 61kB 6.3MB/s \n",
            "\u001b[?25hCollecting cryptography>=2.5\n",
            "\u001b[?25l  Downloading https://files.pythonhosted.org/packages/45/f9/ee6878ab822eef403a4282c8ce80d56e3121c9576a6544377df809363b50/cryptography-2.9.2-cp27-cp27mu-manylinux2010_x86_64.whl (2.7MB)\n",
            "\u001b[K     |████████████████████████████████| 2.7MB 8.5MB/s \n",
            "\u001b[?25hRequirement already satisfied: six in /usr/local/lib/python2.7/dist-packages (from pynacl>=1.0.1->paramiko) (1.12.0)\n",
            "Requirement already satisfied: cffi>=1.4.1 in /usr/local/lib/python2.7/dist-packages (from pynacl>=1.0.1->paramiko) (1.12.3)\n",
            "Requirement already satisfied: enum34; python_version < \"3\" in /usr/local/lib/python2.7/dist-packages (from cryptography>=2.5->paramiko) (1.1.6)\n",
            "Requirement already satisfied: ipaddress; python_version < \"3\" in /usr/local/lib/python2.7/dist-packages (from cryptography>=2.5->paramiko) (1.0.22)\n",
            "Requirement already satisfied: pycparser in /usr/local/lib/python2.7/dist-packages (from cffi>=1.4.1->pynacl>=1.0.1->paramiko) (2.19)\n",
            "Installing collected packages: pynacl, bcrypt, cryptography, paramiko\n",
            "Successfully installed bcrypt-3.1.7 cryptography-2.9.2 paramiko-2.7.1 pynacl-1.3.0\n"
          ],
          "name": "stdout"
        }
      ]
    },
    {
      "cell_type": "code",
      "metadata": {
        "id": "QqbD-WivcGf4",
        "colab_type": "code",
        "outputId": "68818169-7807-421a-e74c-4c8cfd861ed9",
        "colab": {
          "base_uri": "https://localhost:8080/",
          "height": 1000
        }
      },
      "source": [
        "#Code referred from: https://github.com/NaruBeast/Automated-Essay-Grader\n",
        "from __future__ import print_function\n",
        "import matplotlib.pyplot as plt\n",
        "import numpy as np\n",
        "import pandas as pd\n",
        "import random\n",
        "from scipy.stats import spearmanr\n",
        "import nltk.data\n",
        "import re\n",
        "from nltk.corpus import stopwords\n",
        "import tensorflow as tf\n",
        "import logging\n",
        "from gensim.models import word2vec\n",
        "from sklearn.metrics import cohen_kappa_score\n",
        "import timeit\n",
        "from sklearn.model_selection import train_test_split\n",
        "#from pandas import Series\n",
        "from numpy.random import randn\n",
        "\n",
        "xl_workbook = pd.ExcelFile('training_set_rel3.xlsx')\n",
        "df_all = xl_workbook.parse(\"training_set\")\n",
        "df_all = df_all[df_all['domain1_score']<61]\n",
        "df_all = df_all.dropna(axis = 1)\n",
        "df_all = df_all.drop('rater1_domain1', 1)\n",
        "df_all = df_all.drop('rater2_domain1', 1)\n",
        "df_all = df_all.drop('essay_id', 1)\n",
        "\n",
        "X_train, X_test, y_train, y_test = train_test_split(df_all['essay'], df_all['domain1_score'], test_size=0.10)\n",
        "print(y_train)\n",
        "print(len(y_train))\n",
        "y_train = y_train.values.reshape((len(y_train),1))\n",
        "print(y_train)\n",
        "y_test = y_test.values.reshape((len(y_test), 1))\n",
        "print(y_test)\n",
        "\n",
        "def essay_to_wordlist(essay_v, remove_stopwords):\n",
        "    essay_v = re.sub(\"[^a-zA-Z]\", \" \", essay_v)\n",
        "    words = essay_v.lower().split()\n",
        "    if remove_stopwords:\n",
        "        stops = set(stopwords.words(\"english\"))\n",
        "        words = [w for w in words if not w in stops]\n",
        "    return (words)\n",
        "\n",
        "tokenizer = nltk.data.load('tokenizers/punkt/english.pickle')\n",
        "\n",
        "def essay_to_sentences(essay_v, remove_stopwords):\n",
        "    raw_sentences = tokenizer.tokenize(essay_v.strip())\n",
        "    sentences = []\n",
        "    for raw_sentence in raw_sentences:\n",
        "        if len(raw_sentence) > 0:\n",
        "            sentences.append(essay_to_wordlist(raw_sentence, remove_stopwords))\n",
        "    return sentences\n",
        "\n",
        "sentences = []\n",
        "\n",
        "for essay_v in X_train:    \n",
        "    sentences += essay_to_sentences(essay_v, remove_stopwords = True)\n",
        "\n",
        "for essay_v in X_test:\n",
        "    sentences += essay_to_sentences(essay_v, remove_stopwords = True)\n",
        "\n",
        "logging.basicConfig(format='%(asctime)s : %(levelname)s : %(message)s', level=logging.INFO)\n",
        "\n",
        "num_features = 300 \n",
        "min_word_count = 40\n",
        "num_workers = 4\n",
        "context = 10\n",
        "downsampling = 1e-3\n",
        "\n",
        "print (\"Training model...\")\n",
        "model = word2vec.Word2Vec(sentences, workers=num_workers, size=num_features, min_count = min_word_count, window = context, sample = downsampling)\n",
        "\n",
        "model.init_sims(replace=True)\n",
        "\n",
        "model_name = \"300features_40minwords_10context\"\n",
        "model.save(model_name)\n",
        "\n",
        "def makeFeatureVec(words, model, num_features):\n",
        "    featureVec = np.zeros((num_features,),dtype=\"float32\")\n",
        "    nwords = 0.\n",
        "    index2word_set = set(model.wv.index2word)\n",
        "    for word in words:\n",
        "        if word in index2word_set: \n",
        "            nwords = nwords + 1.\n",
        "            featureVec = np.add(featureVec,model[word])        \n",
        "    featureVec = np.divide(featureVec,nwords)\n",
        "    return featureVec\n",
        "\n",
        "def getAvgFeatureVecs(essays, model, num_features):\n",
        "    counter = 0\n",
        "    essayFeatureVecs = np.zeros((len(essays),num_features),dtype=\"float32\")\n",
        "    for essay in essays:\n",
        "        essayFeatureVecs[counter] = makeFeatureVec(essay, model, num_features)\n",
        "        counter = counter + 1\n",
        "    return essayFeatureVecs\n",
        "\n",
        "print (\"Creating average feature vecs for Training Essays\")\n",
        "clean_train_essays = []\n",
        "for essay_v in X_train:\n",
        "    clean_train_essays.append( essay_to_wordlist( essay_v, remove_stopwords=True ))\n",
        "trainDataVecs = getAvgFeatureVecs( clean_train_essays, model, num_features )\n",
        "\n",
        "\n",
        "clean_test_essays = []\n",
        "for essay_v in X_test:\n",
        "    clean_test_essays.append( essay_to_wordlist( essay_v, remove_stopwords=True ))\n",
        "testDataVecs = getAvgFeatureVecs( clean_test_essays, model, num_features )\n",
        "  "
      ],
      "execution_count": 0,
      "outputs": [
        {
          "output_type": "stream",
          "text": [
            "9984      3.0\n",
            "5794      0.0\n",
            "10064     3.0\n",
            "1687      9.0\n",
            "1474      7.0\n",
            "3036      2.0\n",
            "2070      4.0\n",
            "12677    30.0\n",
            "11252    20.0\n",
            "7697      1.0\n",
            "12356    40.0\n",
            "9222      3.0\n",
            "5672      2.0\n",
            "11595    17.0\n",
            "7660      3.0\n",
            "1006      8.0\n",
            "9120      4.0\n",
            "1703      7.0\n",
            "4342      1.0\n",
            "1362      6.0\n",
            "6324      1.0\n",
            "10639     4.0\n",
            "2741      3.0\n",
            "8572      2.0\n",
            "8657      3.0\n",
            "8222      4.0\n",
            "3559      5.0\n",
            "4373      2.0\n",
            "9869      3.0\n",
            "6436      1.0\n",
            "         ... \n",
            "7370      3.0\n",
            "5934      0.0\n",
            "8968      3.0\n",
            "10150     2.0\n",
            "11505     6.0\n",
            "6382      2.0\n",
            "2258      4.0\n",
            "907       8.0\n",
            "7945      1.0\n",
            "7144      2.0\n",
            "8887      3.0\n",
            "11895    21.0\n",
            "687       9.0\n",
            "1619      8.0\n",
            "3315      4.0\n",
            "4598      2.0\n",
            "7214      3.0\n",
            "8919      2.0\n",
            "8218      3.0\n",
            "120       8.0\n",
            "8402      2.0\n",
            "629      10.0\n",
            "5764      3.0\n",
            "12723    32.0\n",
            "9613      4.0\n",
            "12544    40.0\n",
            "3120      3.0\n",
            "2853      3.0\n",
            "11176    11.0\n",
            "1791      4.0\n",
            "Name: domain1_score, Length: 11679, dtype: float64\n",
            "11679\n",
            "[[ 3.]\n",
            " [ 0.]\n",
            " [ 3.]\n",
            " ...\n",
            " [ 3.]\n",
            " [11.]\n",
            " [ 4.]]\n",
            "[[ 1.]\n",
            " [ 2.]\n",
            " [ 4.]\n",
            " ...\n",
            " [ 1.]\n",
            " [15.]\n",
            " [ 4.]]\n",
            "Training model...\n"
          ],
          "name": "stdout"
        },
        {
          "output_type": "stream",
          "text": [
            "/usr/local/lib/python2.7/dist-packages/smart_open/smart_open_lib.py:398: UserWarning: This function is deprecated, use smart_open.open instead. See the migration notes for details: https://github.com/RaRe-Technologies/smart_open/blob/master/README.rst#migrating-to-the-new-open-function\n",
            "  'See the migration notes for details: %s' % _MIGRATION_NOTES_URL\n"
          ],
          "name": "stderr"
        },
        {
          "output_type": "stream",
          "text": [
            "Creating average feature vecs for Training Essays\n"
          ],
          "name": "stdout"
        }
      ]
    },
    {
      "cell_type": "code",
      "metadata": {
        "id": "P8vuGo5dq5df",
        "colab_type": "code",
        "colab": {}
      },
      "source": [
        "%%capture\n",
        "from sklearn.linear_model import LogisticRegression\n",
        "from sklearn.discriminant_analysis import LinearDiscriminantAnalysis as LDA\n",
        "from sklearn.discriminant_analysis import QuadraticDiscriminantAnalysis as QDA\n",
        "from sklearn.neighbors import KNeighborsClassifier as KNN\n",
        "from sklearn.tree import DecisionTreeClassifier as DecisionTree\n",
        "from sklearn.ensemble import RandomForestClassifier as RandomForest\n",
        "from sklearn import grid_search\n",
        "from sklearn.svm import SVC\n",
        "from time import time\n",
        "import warnings\n",
        "warnings.filterwarnings(\"ignore\")"
      ],
      "execution_count": 0,
      "outputs": []
    },
    {
      "cell_type": "code",
      "metadata": {
        "id": "84yxLMZ_q8lc",
        "colab_type": "code",
        "colab": {}
      },
      "source": [
        "#initialize arrays to store results\n",
        "times = []\n",
        "scores = []\n",
        "labels = []"
      ],
      "execution_count": 0,
      "outputs": []
    },
    {
      "cell_type": "code",
      "metadata": {
        "id": "P9mcYmv_q_1v",
        "colab_type": "code",
        "outputId": "feb1732f-030a-42ac-eb88-3c3302361b26",
        "colab": {
          "base_uri": "https://localhost:8080/",
          "height": 265
        }
      },
      "source": [
        "#parameter combinations that will be tested\n",
        "#Code referred from: https://github.com/NaruBeast/Automated-Essay-Grader\n",
        "\n",
        "parameters = {'class_weight': ['balanced', None], 'penalty': ['l1','l2']}\n",
        "logreg = LogisticRegression()\n",
        "log_grid = grid_search.GridSearchCV(logreg, parameters)\n",
        "print (trainDataVecs)\n",
        "log_grid.fit(trainDataVecs, y_train[:,0])\n",
        "print (log_grid.best_params_)"
      ],
      "execution_count": 0,
      "outputs": [
        {
          "output_type": "stream",
          "text": [
            "[[ 0.0460921   0.02894035 -0.02239872 ...  0.00047606  0.01869415\n",
            "   0.00498749]\n",
            " [ 0.02495375 -0.0126499  -0.00534976 ... -0.05037187  0.00939768\n",
            "   0.01937776]\n",
            " [ 0.0235579   0.03032295 -0.02603593 ... -0.00293597  0.01692811\n",
            "  -0.00283313]\n",
            " ...\n",
            " [-0.00261315 -0.02697613  0.00291556 ... -0.01252981  0.00496205\n",
            "   0.02446349]\n",
            " [-0.01008684 -0.03900116  0.0087231  ... -0.03596007  0.04156557\n",
            "   0.02154632]\n",
            " [ 0.00133886 -0.04026736  0.00392179 ... -0.02114516 -0.00584895\n",
            "   0.02505936]]\n",
            "{'penalty': 'l1', 'class_weight': None}\n"
          ],
          "name": "stdout"
        }
      ]
    },
    {
      "cell_type": "code",
      "metadata": {
        "id": "aWNA_3Sj1SmU",
        "colab_type": "code",
        "colab": {}
      },
      "source": [
        "#Code referred from: https://github.com/NaruBeast/Automated-Essay-Grader\n",
        "start_lr = time()\n",
        "logreg = LogisticRegression(penalty = 'l1', class_weight = None)\n",
        "logreg.fit(trainDataVecs, y_train[:,0])\n",
        "preds_lr  = logreg.predict(testDataVecs)\n",
        "tot_lr = time() - start_lr\n",
        "\n",
        "scores.append(spearmanr(y_test, preds_lr)[0])\n",
        "times.append(tot_lr)\n",
        "labels.append('Log Reg')"
      ],
      "execution_count": 0,
      "outputs": []
    },
    {
      "cell_type": "code",
      "metadata": {
        "id": "tHJRgcWw1lXN",
        "colab_type": "code",
        "colab": {}
      },
      "source": [
        "#Code referred from: https://github.com/NaruBeast/Automated-Essay-Grader\n",
        "#K Nearest Neighbors\n",
        "start_knn = time()\n",
        "knn = KNN(n_neighbors = 16)\n",
        "knn.fit(trainDataVecs, y_train[:,0])\n",
        "predsknn = knn.predict(testDataVecs)\n",
        "tot_knn = time() - start_knn\n",
        "\n",
        "scores.append(spearmanr(y_test, predsknn)[0])\n",
        "times.append(tot_knn)\n",
        "labels.append('KNN')"
      ],
      "execution_count": 0,
      "outputs": []
    },
    {
      "cell_type": "code",
      "metadata": {
        "id": "NamKfrqrQj0O",
        "colab_type": "code",
        "colab": {}
      },
      "source": [
        "#Code referred from: https://github.com/NaruBeast/Automated-Essay-Grader\n",
        "#Support Vector Machine\n",
        "start = time()\n",
        "svm = SVC(C = 50, gamma = 0.9)\n",
        "svm.fit(trainDataVecs, y_train[:,0])\n",
        "predictions = svm.predict(testDataVecs)\n",
        "total = time() - start\n",
        "\n",
        "scores.append(spearmanr(y_test, predictions)[0])\n",
        "times.append(total)\n",
        "labels.append('SVM')"
      ],
      "execution_count": 0,
      "outputs": []
    },
    {
      "cell_type": "code",
      "metadata": {
        "id": "vXp0u6Oz134_",
        "colab_type": "code",
        "colab": {}
      },
      "source": [
        "#Code referred from: https://github.com/NaruBeast/Automated-Essay-Grader\n",
        "#Random Forest\n",
        "start_rf = time()\n",
        "rf = RandomForest(n_estimators = 51, max_depth = 14)\n",
        "rf.fit(trainDataVecs, y_train[:])\n",
        "preds_rf = rf.predict(testDataVecs)\n",
        "tot_rf = time() - start_rf \n",
        "\n",
        "scores.append(spearmanr(y_test, preds_rf)[0])\n",
        "times.append(tot_rf)\n",
        "labels.append('Random Forest')"
      ],
      "execution_count": 0,
      "outputs": []
    },
    {
      "cell_type": "code",
      "metadata": {
        "id": "NFGIeWMJ1gw-",
        "colab_type": "code",
        "colab": {}
      },
      "source": [
        "\n"
      ],
      "execution_count": 0,
      "outputs": []
    },
    {
      "cell_type": "code",
      "metadata": {
        "id": "TmzUY_4cQj0a",
        "colab_type": "code",
        "outputId": "3d3cbfac-01e6-4806-d6c9-edbf2448ea18",
        "colab": {
          "base_uri": "https://localhost:8080/",
          "height": 564
        }
      },
      "source": [
        "#Code referred from: https://github.com/NaruBeast/Automated-Essay-Grader\n",
        "import matplotlib.cm as cm\n",
        "#plot\n",
        "fig = plt.figure(figsize=(7,7))\n",
        "print(\"Algorithm Time Score\" )\n",
        "for x,y,z in zip(labels,times,scores):\n",
        "    print(x,y,z)  \n",
        "color=iter(cm.rainbow(np.linspace(0,1,5)))\n",
        "print(color)\n",
        "for label, x, y, col  in zip(labels, scores, times, color):\n",
        "    plt.scatter(x, y, color=col, s = 50)\n",
        "    plt.grid(color='k')\n",
        "    plt.annotate(\n",
        "    label,\n",
        "    xy = (x, y), xytext = (40, 20),\n",
        "    textcoords = 'offset points', ha = 'center', va = 'center',\n",
        "    bbox = dict(boxstyle = 'round,pad=0.5', fc = 'white', alpha = 0.5),\n",
        "    arrowprops = dict(arrowstyle = '->', connectionstyle = 'arc3,rad=0'))  \n",
        "plt.title('Computation Time Vs. Spearmans Correlation')\n",
        "plt.ylabel('Computation Time (Seconds)')\n",
        "plt.xlabel('Spearmans Correlation')\n",
        "plt.show()"
      ],
      "execution_count": 0,
      "outputs": [
        {
          "output_type": "stream",
          "text": [
            "Algorithm Time Score\n",
            "Log Reg 17.0286509991 0.7827268366160818\n",
            "KNN 4.16545701027 0.920571666918489\n",
            "SVM 50.0607409477 0.9349743916634462\n",
            "Random Forest 18.4566810131 0.9144732585850536\n",
            "<iterator object at 0x7f80bfeedc50>\n"
          ],
          "name": "stdout"
        },
        {
          "output_type": "display_data",
          "data": {
            "image/png": "[encoded data removed]",
            "text/plain": [
              "<Figure size 504x504 with 1 Axes>"
            ]
          },
          "metadata": {
            "tags": [],
            "needs_background": "light"
          }
        }
      ]
    }
  ]
}